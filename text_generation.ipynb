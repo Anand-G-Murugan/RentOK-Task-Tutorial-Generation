{
 "cells": [
  {
   "cell_type": "code",
   "execution_count": 1,
   "metadata": {},
   "outputs": [
    {
     "data": {
      "text/plain": [
       "True"
      ]
     },
     "execution_count": 1,
     "metadata": {},
     "output_type": "execute_result"
    }
   ],
   "source": [
    "# Loading my OPENAI KEY as an environment variable\n",
    "from dotenv import load_dotenv\n",
    "load_dotenv()"
   ]
  },
  {
   "cell_type": "code",
   "execution_count": 2,
   "metadata": {},
   "outputs": [],
   "source": [
    "from langchain.chat_models import ChatOpenAI\n",
    "from langchain.chains import LLMChain, SimpleSequentialChain, SequentialChain, TransformChain\n",
    "from langchain.prompts import PromptTemplate\n",
    "from langchain.prompts.chat import (\n",
    "    ChatPromptTemplate,\n",
    "    SystemMessagePromptTemplate,\n",
    "    AIMessagePromptTemplate,\n",
    "    HumanMessagePromptTemplate,\n",
    ")\n",
    "from langchain.schema import AIMessage, HumanMessage, SystemMessage"
   ]
  },
  {
   "cell_type": "markdown",
   "metadata": {},
   "source": [
    "## Steps generation"
   ]
  },
  {
   "cell_type": "code",
   "execution_count": 15,
   "metadata": {},
   "outputs": [],
   "source": [
    "# Description of the app we are using\n",
    "\n",
    "# USER INPUT\n",
    "app_desc = \"\"\"VITian is an application built for students of VIT to access their student data. \n",
    "We can use the app to find out examination allotments.\"\"\"\n",
    "\n",
    "# Description of the actions we are performing\n",
    "\n",
    "# USER INPUT\n",
    "actions_desc = \"\"\"We begin by opening the application.\n",
    "Then we refresh the app time by pressing the refresh icon.\n",
    "Then we open the sidebar.\n",
    "Then we tap on \"Academics\"\n",
    "Then we tap on \"Exam Schedule\"\n",
    "We can now see the exam schedule and allocation.\"\"\"\n",
    "\n",
    "# Prompt template to generate teh narrator text\n",
    "topic_template = \"\"\"You are to convert the list of steps performed in the video into an organized format and properly number them. \n",
    "The output must be a python list of strings where each string is a step. Be informative and do not make up things.\n",
    "\n",
    "App details:\n",
    "```\n",
    "{app_desc}\n",
    "```\n",
    "\n",
    "Tutorial Description:\n",
    "```\n",
    "{tutorial_desc}\n",
    "```\n",
    "\n",
    "The steps being performed in the video are:\n",
    "```\n",
    "{steps}\n",
    "```\n",
    "\n",
    "Sample inputs: \n",
    "```\n",
    "App details: Gmail is an application used to send email to other people across the world.\n",
    "Tutorial Description: The tutorial shows how to view a sent email in the Gmail app.\n",
    "The steps being performed in the video are:\n",
    "We open the gmail application on our mobile device,\n",
    "we then need to navigate to the Sent emails page by tapping on the sidebar and then tapping on the Sent tab.\n",
    "Now we can select the specific email and finally, we can view the email that we have sent out.  \n",
    "```\n",
    "\n",
    "Output example:\n",
    "```\n",
    "['Open the Gmail app',\n",
    "'Open the sidebar',\n",
    "'Select Sent',\n",
    "'Select the you want to view',\n",
    "'View the email']\n",
    "```\n",
    "\"\"\""
   ]
  },
  {
   "cell_type": "code",
   "execution_count": 13,
   "metadata": {},
   "outputs": [],
   "source": [
    "chat = ChatOpenAI(temperature=0, model_name = \"gpt-4\")\n",
    "system_message_prompt = SystemMessage(content=\"You are an expert at making tutorial videos and very good at defining tasks in simple terms.\")\n",
    "human_message_prompt = HumanMessagePromptTemplate(prompt=PromptTemplate(\n",
    "                                                  template=topic_template,\n",
    "                                                  input_variables=[\"app_desc\",\"tutorial_desc\", \"steps\"]))"
   ]
  },
  {
   "cell_type": "code",
   "execution_count": 14,
   "metadata": {},
   "outputs": [],
   "source": [
    "# Chain to write the create the steps from the input text\n",
    "chat_prompt_template = ChatPromptTemplate.from_messages([system_message_prompt, human_message_prompt])\n",
    "steps_chain = LLMChain(llm=chat, prompt=chat_prompt_template, output_key='steps')"
   ]
  },
  {
   "cell_type": "code",
   "execution_count": 35,
   "metadata": {},
   "outputs": [],
   "source": [
    "# testing the steps + prompt engineering"
   ]
  },
  {
   "cell_type": "code",
   "execution_count": 36,
   "metadata": {},
   "outputs": [],
   "source": [
    "# messages = [\n",
    "#     SystemMessage(\n",
    "#         content=\"You are a narrator with experience in making tech tutorial videos.\"\n",
    "#     ),\n",
    "#     HumanMessage(\n",
    "#         content=\"\"\"You are to convert the list of steps performed in the video into an organized format and properly number them. \n",
    "# The output must be a python list of strings where each string is a step. Be informative and do not make up things.\n",
    "\n",
    "# App details:\n",
    "# ```\n",
    "# VITian is an application built for students of VIT to access their student data. \n",
    "# We can use the app to find out examination allotments.\n",
    "# ```\n",
    "\n",
    "# Tutorial Description:\n",
    "# ```\n",
    "# This is a tutorial on how to use the VITian app to view the exam schedule.\n",
    "# ```\n",
    "\n",
    "# The steps being performed in the video are:\n",
    "# ```\n",
    "# ['Open the VITian app',\n",
    "# 'Click on the refresh icon',\n",
    "# 'Open the sidebar',\n",
    "# 'Select Academics',\n",
    "# 'Select Exam Schedule',\n",
    "# 'View the exam schedule and allocation']\n",
    "# ```\n",
    "\n",
    "# Sample inputs: \n",
    "# ```\n",
    "# App details: Gmail is an application used to send email to other people across the world.\n",
    "# Tutorial Description: The tutorial shows how to view a sent email in the Gmail app.\n",
    "# The steps being performed in the video are:\n",
    "# We open the gmail application on our mobile device,\n",
    "# we then need to navigate to the Sent emails page by tapping on the sidebar and then tapping on the Sent tab.\n",
    "# Now we can select the specific email and finally, we can view the email that we have sent out.  \n",
    "# ```\n",
    "\n",
    "# Output example:\n",
    "# ```\n",
    "# ['Open the Gmail app',\n",
    "# 'Open the sidebar',\n",
    "# 'Select Sent',\n",
    "# 'Select the you want to view',\n",
    "# 'View the email']\n",
    "# ```\n",
    "# \"\"\"\n",
    "#     ),\n",
    "# ]"
   ]
  },
  {
   "cell_type": "code",
   "execution_count": 22,
   "metadata": {},
   "outputs": [],
   "source": [
    "op = chat(messages)"
   ]
  },
  {
   "cell_type": "code",
   "execution_count": 27,
   "metadata": {},
   "outputs": [
    {
     "data": {
      "text/plain": [
       "\"Here is the organized format of the steps performed in the video:\\n\\n```python\\n[\\n'Step 1: Open the VITian app',\\n'Step 2: Click on the refresh icon',\\n'Step 3: Open the sidebar',\\n'Step 4: Select Academics',\\n'Step 5: Select Exam Schedule',\\n'Step 6: View the exam schedule and allocation'\\n]\\n```\""
      ]
     },
     "execution_count": 27,
     "metadata": {},
     "output_type": "execute_result"
    }
   ],
   "source": [
    "op.content"
   ]
  },
  {
   "cell_type": "markdown",
   "metadata": {},
   "source": [
    "## Narrator Script Generation"
   ]
  },
  {
   "cell_type": "code",
   "execution_count": 19,
   "metadata": {},
   "outputs": [],
   "source": [
    "# Description of the app we are using\n",
    "\n",
    "# USER INPUT\n",
    "app_desc = \"\"\"VITian is an application built for students of VIT to access their student data. \n",
    "We can use the app to find out examination allotments.\"\"\"\n",
    "\n",
    "# Description of the actions we are performing\n",
    "\n",
    "# USER INPUT\n",
    "actions_desc = \"\"\"We begin by opening the application.\n",
    "Then we refresh the app time by pressing the refresh icon.\n",
    "Then we open the sidebar.\n",
    "Then we tap on \"Academics\"\n",
    "Then we tap on \"Exam Schedule\"\n",
    "We can now see the exam schedule and allocation.\"\"\"\n",
    "\n",
    "# Prompt template to generate teh narrator text\n",
    "topic_template = \"\"\"You are to narrate a tutorial video about an app. Be informative and do not make up things.\n",
    "App details:\n",
    "```\n",
    "{app_desc}\n",
    "```\n",
    "\n",
    "Tutorial Description:\n",
    "```\n",
    "{tutorial_desc}\n",
    "```\n",
    "\n",
    "The steps being performed in the video are:\n",
    "```\n",
    "{steps}\n",
    "```\n",
    "\"\"\""
   ]
  },
  {
   "cell_type": "code",
   "execution_count": 20,
   "metadata": {},
   "outputs": [],
   "source": [
    "chat = ChatOpenAI(temperature=0, model_name = \"gpt-4\")\n",
    "system_message_prompt = SystemMessage(content=\"You are a narrator with experience in making tech tutorial videos.\")\n",
    "human_message_prompt = HumanMessagePromptTemplate(prompt=PromptTemplate(\n",
    "                                                  template=topic_template,\n",
    "                                                  input_variables=[\"app_desc\", \"tutorial_desc\", \"steps\"]))"
   ]
  },
  {
   "cell_type": "code",
   "execution_count": 21,
   "metadata": {},
   "outputs": [],
   "source": [
    "# Chain to write the script for the narrator\n",
    "chat_prompt_template = ChatPromptTemplate.from_messages([system_message_prompt, human_message_prompt])\n",
    "script_chain = LLMChain(llm=chat, prompt=chat_prompt_template, output_key='script')"
   ]
  },
  {
   "cell_type": "code",
   "execution_count": 7,
   "metadata": {},
   "outputs": [],
   "source": [
    "# testing the scripts + prompt engineering"
   ]
  },
  {
   "cell_type": "code",
   "execution_count": 37,
   "metadata": {},
   "outputs": [],
   "source": [
    "# messages = [\n",
    "#     SystemMessage(\n",
    "#         content=\"You are a narrator with experience in making tech tutorial videos.\"\n",
    "#     ),\n",
    "#     HumanMessage(\n",
    "#         content=\"\"\"You are to narrate a tutorial video about an app. Be informative and do not make up things.\n",
    "# App details:\n",
    "# ```\n",
    "# VITian is an application built for students of VIT to access their student data. \n",
    "# We can use the app to find out examination allotments.\n",
    "# ```\n",
    "\n",
    "# Tutorial Description:\n",
    "# ```\n",
    "# This is a tutorial on how to use the VITian app to view the exam schedule.\n",
    "# ```\n",
    "\n",
    "# The steps being performed in the video are:\n",
    "# ```\n",
    "# [\\n'Step 1: Open the VITian app',\\n'Step 2: Click on the refresh icon',\\n'Step 3: Open the sidebar',\\n'Step 4: Select Academics',\\n'Step 5: Select Exam Schedule',\\n'Step 6: View the exam schedule and allocation'\\n]\n",
    "# ```\n",
    "# Generate a maximum of one to two sentences per step.\n",
    "# \"\"\"\n",
    "#     ),\n",
    "# ]"
   ]
  },
  {
   "cell_type": "code",
   "execution_count": 32,
   "metadata": {},
   "outputs": [],
   "source": [
    "op2 = chat(messages)"
   ]
  },
  {
   "cell_type": "code",
   "execution_count": 33,
   "metadata": {},
   "outputs": [
    {
     "data": {
      "text/plain": [
       "'[Background Music Starts]\\n\\n\"Hello everyone, welcome to our tutorial on how to use the VITian app to view your exam schedule. Let\\'s get started.\\n\\nStep 1: First, locate and open the VITian app on your device. This is your gateway to all your student data.\\n\\nStep 2: Once the app is open, you\\'ll see a refresh icon at the top of the screen. Click on this to ensure you have the most up-to-date information.\\n\\nStep 3: Now, let\\'s navigate to the sidebar. You can do this by swiping from the left edge of your screen or tapping on the three horizontal lines at the top left corner.\\n\\nStep 4: In the sidebar, you\\'ll find an option labeled \\'Academics\\'. Go ahead and select this to proceed.\\n\\nStep 5: Under \\'Academics\\', you\\'ll see \\'Exam Schedule\\'. Tap on this to view all upcoming exams.\\n\\nStep 6: And there you have it! You can now view your exam schedule and allocation. This will help you plan your study schedule effectively.\\n\\nThat\\'s all for this tutorial. Stay tuned for more tips and tricks on how to make the most of the VITian app. Thanks for watching.\"\\n\\n[Background Music Fades Out]'"
      ]
     },
     "execution_count": 33,
     "metadata": {},
     "output_type": "execute_result"
    }
   ],
   "source": [
    "op2.content"
   ]
  },
  {
   "cell_type": "code",
   "execution_count": null,
   "metadata": {},
   "outputs": [],
   "source": []
  }
 ],
 "metadata": {
  "kernelspec": {
   "display_name": "Python 3",
   "language": "python",
   "name": "python3"
  },
  "language_info": {
   "codemirror_mode": {
    "name": "ipython",
    "version": 3
   },
   "file_extension": ".py",
   "mimetype": "text/x-python",
   "name": "python",
   "nbconvert_exporter": "python",
   "pygments_lexer": "ipython3",
   "version": "3.10.9"
  }
 },
 "nbformat": 4,
 "nbformat_minor": 2
}
