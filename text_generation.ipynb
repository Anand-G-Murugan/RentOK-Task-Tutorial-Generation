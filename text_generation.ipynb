{
 "cells": [
  {
   "cell_type": "code",
   "execution_count": 2,
   "metadata": {},
   "outputs": [
    {
     "data": {
      "text/plain": [
       "True"
      ]
     },
     "execution_count": 2,
     "metadata": {},
     "output_type": "execute_result"
    }
   ],
   "source": [
    "# Loading my OPENAI KEY as an environment variable\n",
    "from dotenv import load_dotenv\n",
    "load_dotenv()"
   ]
  },
  {
   "cell_type": "markdown",
   "metadata": {},
   "source": [
    "## Audio transcription\n",
    "\n",
    "We begin by  transcribing the audio from the input"
   ]
  },
  {
   "cell_type": "code",
   "execution_count": 7,
   "metadata": {},
   "outputs": [],
   "source": [
    "import whisper\n",
    "import os\n",
    "\n",
    "audio_input_path = \"audio/audio_to_transcribe.mp3\" \n",
    "\n",
    "model = whisper.load_model(\"base.en\")"
   ]
  },
  {
   "cell_type": "code",
   "execution_count": 8,
   "metadata": {},
   "outputs": [
    {
     "name": "stdout",
     "output_type": "stream",
     "text": [
      " Today we are going to be looking at how to use the VITN application to view your exam schedule. We will begin by opening the VITN application. Once it is opened up, we tap on the refresh button in order to get the latest data and keep it updated. Then we open the sidebar by tapping on the sidebar icon, go into academics, down and exam schedule. From here we can select our exam and now view the exam venue, see details, time and date. Thank you.\n"
     ]
    }
   ],
   "source": [
    "result = model.transcribe(audio_input_path)\n",
    "print(result[\"text\"])"
   ]
  },
  {
   "cell_type": "code",
   "execution_count": 62,
   "metadata": {},
   "outputs": [],
   "source": [
    "transcript = result[\"text\"]"
   ]
  },
  {
   "cell_type": "code",
   "execution_count": 30,
   "metadata": {},
   "outputs": [
    {
     "name": "stdout",
     "output_type": "stream",
     "text": [
      "{'text': ' Today we are going to be looking at how to use the VITN application to view your exam schedule. We will begin by opening the VITN application. Once it is opened up, we tap on the refresh button in order to get the latest data and keep it updated. Then we open the sidebar by tapping on the sidebar icon, go into academics, down and exam schedule. From here we can select our exam and now view the exam venue, see details, time and date. Thank you.', 'segments': [{'id': 0, 'seek': 0, 'start': 0.0, 'end': 3.8000000000000003, 'text': ' Today we are going to be looking at how to use the VITN application to view your exam', 'tokens': [50363, 6288, 356, 389, 1016, 284, 307, 2045, 379, 703, 284, 779, 262, 569, 2043, 45, 3586, 284, 1570, 534, 2814, 50553], 'temperature': 0.0, 'avg_logprob': -0.22808042346921742, 'compression_ratio': 1.7233201581027668, 'no_speech_prob': 0.13063941895961761}, {'id': 1, 'seek': 0, 'start': 3.8000000000000003, 'end': 4.8, 'text': ' schedule.', 'tokens': [50553, 7269, 13, 50603], 'temperature': 0.0, 'avg_logprob': -0.22808042346921742, 'compression_ratio': 1.7233201581027668, 'no_speech_prob': 0.13063941895961761}, {'id': 2, 'seek': 0, 'start': 4.8, 'end': 9.08, 'text': ' We will begin by opening the VITN application.', 'tokens': [50603, 775, 481, 2221, 416, 4756, 262, 569, 2043, 45, 3586, 13, 50817], 'temperature': 0.0, 'avg_logprob': -0.22808042346921742, 'compression_ratio': 1.7233201581027668, 'no_speech_prob': 0.13063941895961761}, {'id': 3, 'seek': 0, 'start': 9.08, 'end': 13.4, 'text': ' Once it is opened up, we tap on the refresh button in order to get the latest data and', 'tokens': [50817, 4874, 340, 318, 4721, 510, 11, 356, 9814, 319, 262, 14976, 4936, 287, 1502, 284, 651, 262, 3452, 1366, 290, 51033], 'temperature': 0.0, 'avg_logprob': -0.22808042346921742, 'compression_ratio': 1.7233201581027668, 'no_speech_prob': 0.13063941895961761}, {'id': 4, 'seek': 0, 'start': 13.4, 'end': 15.200000000000001, 'text': ' keep it updated.', 'tokens': [51033, 1394, 340, 6153, 13, 51123], 'temperature': 0.0, 'avg_logprob': -0.22808042346921742, 'compression_ratio': 1.7233201581027668, 'no_speech_prob': 0.13063941895961761}, {'id': 5, 'seek': 0, 'start': 15.200000000000001, 'end': 21.04, 'text': ' Then we open the sidebar by tapping on the sidebar icon, go into academics, down and', 'tokens': [51123, 3244, 356, 1280, 262, 40217, 416, 24435, 319, 262, 40217, 7196, 11, 467, 656, 22321, 11, 866, 290, 51415], 'temperature': 0.0, 'avg_logprob': -0.22808042346921742, 'compression_ratio': 1.7233201581027668, 'no_speech_prob': 0.13063941895961761}, {'id': 6, 'seek': 0, 'start': 21.04, 'end': 23.400000000000002, 'text': ' exam schedule.', 'tokens': [51415, 2814, 7269, 13, 51533], 'temperature': 0.0, 'avg_logprob': -0.22808042346921742, 'compression_ratio': 1.7233201581027668, 'no_speech_prob': 0.13063941895961761}, {'id': 7, 'seek': 0, 'start': 23.400000000000002, 'end': 29.2, 'text': ' From here we can select our exam and now view the exam venue, see details, time and date.', 'tokens': [51533, 3574, 994, 356, 460, 2922, 674, 2814, 290, 783, 1570, 262, 2814, 14359, 11, 766, 3307, 11, 640, 290, 3128, 13, 51823], 'temperature': 0.0, 'avg_logprob': -0.22808042346921742, 'compression_ratio': 1.7233201581027668, 'no_speech_prob': 0.13063941895961761}, {'id': 8, 'seek': 2920, 'start': 29.2, 'end': 30.2, 'text': ' Thank you.', 'tokens': [50363, 6952, 345, 13, 50413], 'temperature': 0.0, 'avg_logprob': -0.9295773506164551, 'compression_ratio': 0.5555555555555556, 'no_speech_prob': 0.996982991695404}], 'language': 'en'}\n"
     ]
    }
   ],
   "source": [
    "print(result)"
   ]
  },
  {
   "cell_type": "code",
   "execution_count": 15,
   "metadata": {},
   "outputs": [],
   "source": [
    "from langchain.chat_models import ChatOpenAI\n",
    "from langchain.chains import LLMChain, SimpleSequentialChain, SequentialChain, TransformChain\n",
    "from langchain.prompts import PromptTemplate\n",
    "from langchain.prompts.chat import (\n",
    "    ChatPromptTemplate,\n",
    "    SystemMessagePromptTemplate,\n",
    "    AIMessagePromptTemplate,\n",
    "    HumanMessagePromptTemplate,\n",
    ")\n",
    "from langchain.schema import AIMessage, HumanMessage, SystemMessage"
   ]
  },
  {
   "cell_type": "markdown",
   "metadata": {},
   "source": [
    "## Steps generation"
   ]
  },
  {
   "cell_type": "markdown",
   "metadata": {},
   "source": [
    "1. We generate steps taken in the video, alongside the timestamps for when the step begins.\n",
    "2. We will use the start time of each step to display the step_text in our video"
   ]
  },
  {
   "cell_type": "code",
   "execution_count": 71,
   "metadata": {},
   "outputs": [],
   "source": [
    "# Prompt template to generate the narrator text\n",
    "topic_template = \"\"\"\n",
    "You are given the transcript of a video of me using an app.\n",
    "You are to convert the given text of actions performed in the video into an organized list of steps and properly number them.\n",
    "You are to also timestamp each of the steps as per the transcript. \n",
    "The output must be a python list of tuples like [(step_text, timestamp), (step_text, timestamp)] where each step_text is a step and timestamp is the start of the text in seconds . Be informative and do not make up things.\n",
    "\n",
    "App details:\n",
    "```\n",
    "{app_desc}\n",
    "```\n",
    "\n",
    "Tutorial Description:\n",
    "```\n",
    "{tutorial_desc}\n",
    "```\n",
    "\n",
    "The Transcript:\n",
    "```\n",
    "{transcript}\n",
    "```\n",
    "Do not give any additional text. No talk, just go. \n",
    "\"\"\""
   ]
  },
  {
   "cell_type": "code",
   "execution_count": 72,
   "metadata": {},
   "outputs": [],
   "source": [
    "chat = ChatOpenAI(temperature=0, model_name = \"gpt-4\")\n",
    "system_message_prompt = SystemMessage(content=\"You are an expert at making tutorial videos and very good at defining tasks in simple terms.\")\n",
    "human_message_prompt = HumanMessagePromptTemplate(prompt=PromptTemplate(\n",
    "                                                  template=topic_template,\n",
    "                                                  input_variables=[\"app_desc\",\"tutorial_desc\", \"transcript\"]))"
   ]
  },
  {
   "cell_type": "code",
   "execution_count": 73,
   "metadata": {},
   "outputs": [],
   "source": [
    "# Chain to write the create the steps from the input text\n",
    "chat_prompt_template = ChatPromptTemplate.from_messages([system_message_prompt, human_message_prompt])\n",
    "steps_chain = LLMChain(llm=chat, prompt=chat_prompt_template, output_key='steps')"
   ]
  },
  {
   "cell_type": "code",
   "execution_count": 74,
   "metadata": {},
   "outputs": [],
   "source": [
    "# Description of the app we are using\n",
    "\n",
    "# USER INPUT\n",
    "app_desc = \"\"\"VITian is an application built for students of VIT to access their student data. \n",
    "We can use the app to find out examination allotments.\"\"\"\n",
    "\n",
    "# Tutorial Description\n",
    "\n",
    "#USER INPUT\n",
    "tutorial_desc = \"\"\"This is a video tutorial on how to use the VITian app to check exam schedule and timings.\"\"\"\n",
    "\n",
    "# transcript has been acquired from the whisper module"
   ]
  },
  {
   "cell_type": "code",
   "execution_count": 75,
   "metadata": {},
   "outputs": [],
   "source": [
    "# testing the steps chain + prompt engineering\n",
    "op = steps_chain(inputs={\"app_desc\": app_desc, \"tutorial_desc\": tutorial_desc, \"transcript\": transcript}, return_only_outputs=True)"
   ]
  },
  {
   "cell_type": "code",
   "execution_count": 76,
   "metadata": {},
   "outputs": [
    {
     "name": "stdout",
     "output_type": "stream",
     "text": [
      "{'steps': 'Here is the organized list of steps with timestamps:\\n\\n```python\\n[\\n    (\"Open the VITian application.\", 0),\\n    (\"Tap on the refresh button to update the data.\", 10),\\n    (\"Open the sidebar by tapping on the sidebar icon.\", 20),\\n    (\"Navigate to \\'Academics\\' in the sidebar.\", 25),\\n    (\"Scroll down and select \\'Exam Schedule\\'.\", 30),\\n    (\"Select your exam.\", 35),\\n    (\"View the exam venue, details, time, and date.\", 40)\\n]\\n```'}\n"
     ]
    }
   ],
   "source": [
    "print(op)"
   ]
  },
  {
   "cell_type": "code",
   "execution_count": 25,
   "metadata": {},
   "outputs": [],
   "source": [
    "# testing the steps + prompt engineering"
   ]
  },
  {
   "cell_type": "code",
   "execution_count": 48,
   "metadata": {},
   "outputs": [],
   "source": [
    "# messages = [\n",
    "#     SystemMessage(\n",
    "#         content=\"You are a narrator with experience in making tech tutorial videos.\"\n",
    "#     ),\n",
    "#     HumanMessage(\n",
    "#         content=\"\"\"\n",
    "\n",
    "# You are given the transcript of a video of me using an app.\n",
    "# You are to convert the given text of actions performed in the video into an organized list of steps and properly number them.\n",
    "# You are to also timestamp each of the steps as per the transcript. \n",
    "# The output must be a python list of tuples like [(step_text, timestamp), (step_text, timestamp)] where each step_text is a step and timestamp is the start of the text in seconds . Be informative and do not make up things.\n",
    "\n",
    "# App details:\n",
    "# ```\n",
    "# VITian is an application built for students of VIT to access their student data. \n",
    "# We can use the app to find out examination allotments.\n",
    "# ```\n",
    "\n",
    "# Tutorial Description:\n",
    "# ```\n",
    "# This is a video tutorial on how to use the VITian app to check exam schedule and timings.\n",
    "# ```\n",
    "\n",
    "# The Transcript:\n",
    "# ```\n",
    "# {'text': ' Today we are going to be looking at how to use the VITN application to view your exam schedule. We will begin by opening the VITN application. Once it is opened up, we tap on the refresh button in order to get the latest data and keep it updated. Then we open the sidebar by tapping on the sidebar icon, go into academics, down and exam schedule. From here we can select our exam and now view the exam venue, see details, time and date. Thank you.', 'segments': [{'id': 0, 'seek': 0, 'start': 0.0, 'end': 3.8000000000000003, 'text': ' Today we are going to be looking at how to use the VITN application to view your exam', 'tokens': [50363, 6288, 356, 389, 1016, 284, 307, 2045, 379, 703, 284, 779, 262, 569, 2043, 45, 3586, 284, 1570, 534, 2814, 50553], 'temperature': 0.0, 'avg_logprob': -0.22808042346921742, 'compression_ratio': 1.7233201581027668, 'no_speech_prob': 0.13063941895961761}, {'id': 1, 'seek': 0, 'start': 3.8000000000000003, 'end': 4.8, 'text': ' schedule.', 'tokens': [50553, 7269, 13, 50603], 'temperature': 0.0, 'avg_logprob': -0.22808042346921742, 'compression_ratio': 1.7233201581027668, 'no_speech_prob': 0.13063941895961761}, {'id': 2, 'seek': 0, 'start': 4.8, 'end': 9.08, 'text': ' We will begin by opening the VITN application.', 'tokens': [50603, 775, 481, 2221, 416, 4756, 262, 569, 2043, 45, 3586, 13, 50817], 'temperature': 0.0, 'avg_logprob': -0.22808042346921742, 'compression_ratio': 1.7233201581027668, 'no_speech_prob': 0.13063941895961761}, {'id': 3, 'seek': 0, 'start': 9.08, 'end': 13.4, 'text': ' Once it is opened up, we tap on the refresh button in order to get the latest data and', 'tokens': [50817, 4874, 340, 318, 4721, 510, 11, 356, 9814, 319, 262, 14976, 4936, 287, 1502, 284, 651, 262, 3452, 1366, 290, 51033], 'temperature': 0.0, 'avg_logprob': -0.22808042346921742, 'compression_ratio': 1.7233201581027668, 'no_speech_prob': 0.13063941895961761}, {'id': 4, 'seek': 0, 'start': 13.4, 'end': 15.200000000000001, 'text': ' keep it updated.', 'tokens': [51033, 1394, 340, 6153, 13, 51123], 'temperature': 0.0, 'avg_logprob': -0.22808042346921742, 'compression_ratio': 1.7233201581027668, 'no_speech_prob': 0.13063941895961761}, {'id': 5, 'seek': 0, 'start': 15.200000000000001, 'end': 21.04, 'text': ' Then we open the sidebar by tapping on the sidebar icon, go into academics, down and', 'tokens': [51123, 3244, 356, 1280, 262, 40217, 416, 24435, 319, 262, 40217, 7196, 11, 467, 656, 22321, 11, 866, 290, 51415], 'temperature': 0.0, 'avg_logprob': -0.22808042346921742, 'compression_ratio': 1.7233201581027668, 'no_speech_prob': 0.13063941895961761}, {'id': 6, 'seek': 0, 'start': 21.04, 'end': 23.400000000000002, 'text': ' exam schedule.', 'tokens': [51415, 2814, 7269, 13, 51533], 'temperature': 0.0, 'avg_logprob': -0.22808042346921742, 'compression_ratio': 1.7233201581027668, 'no_speech_prob': 0.13063941895961761}, {'id': 7, 'seek': 0, 'start': 23.400000000000002, 'end': 29.2, 'text': ' From here we can select our exam and now view the exam venue, see details, time and date.', 'tokens': [51533, 3574, 994, 356, 460, 2922, 674, 2814, 290, 783, 1570, 262, 2814, 14359, 11, 766, 3307, 11, 640, 290, 3128, 13, 51823], 'temperature': 0.0, 'avg_logprob': -0.22808042346921742, 'compression_ratio': 1.7233201581027668, 'no_speech_prob': 0.13063941895961761}, {'id': 8, 'seek': 2920, 'start': 29.2, 'end': 30.2, 'text': ' Thank you.', 'tokens': [50363, 6952, 345, 13, 50413], 'temperature': 0.0, 'avg_logprob': -0.9295773506164551, 'compression_ratio': 0.5555555555555556, 'no_speech_prob': 0.996982991695404}], 'language': 'en'}\n",
    "# ```\n",
    "# ```\n",
    "# \"\"\"\n",
    "#     ),\n",
    "# ]"
   ]
  },
  {
   "cell_type": "code",
   "execution_count": 43,
   "metadata": {},
   "outputs": [],
   "source": [
    "# op = chat(messages)"
   ]
  },
  {
   "cell_type": "code",
   "execution_count": 51,
   "metadata": {},
   "outputs": [
    {
     "name": "stdout",
     "output_type": "stream",
     "text": [
      "Here is the organized list of steps with timestamps:\n",
      "\n",
      "```python\n",
      "[\n",
      "    (\"Open the VITN application\", 4.8),\n",
      "    (\"Tap on the refresh button to get the latest data\", 9.08),\n",
      "    (\"Open the sidebar by tapping on the sidebar icon\", 15.2),\n",
      "    (\"Go into academics, then exam schedule\", 21.04),\n",
      "    (\"Select your exam to view the exam venue, details, time and date\", 23.4)\n",
      "]\n",
      "```\n"
     ]
    }
   ],
   "source": [
    "# print(op.content)"
   ]
  },
  {
   "cell_type": "markdown",
   "metadata": {},
   "source": [
    "## Narrator Script Generation"
   ]
  },
  {
   "cell_type": "code",
   "execution_count": 53,
   "metadata": {},
   "outputs": [],
   "source": [
    "# Prompt template to generate teh narrator text\n",
    "topic_template = \"\"\"\n",
    "You are to narrate a tutorial video about using an app. Be informative and do not make up things.\n",
    "You are given a description about the app as well as the tutorial topic.\n",
    "You will then be given the list of steps taken in the video alongside the timestamps where they start.\n",
    "Your narration must abide by the timestamps.\n",
    "Generate text for the narrator to read out to the viewer and nothing more.\n",
    "\n",
    "App details:\n",
    "```\n",
    "{app_desc}\n",
    "```\n",
    "\n",
    "Tutorial Description:\n",
    "```\n",
    "{tutorial_desc}\n",
    "```\n",
    "\n",
    "The steps(with timestamps) being performed in the video are:\n",
    "```\n",
    "{steps}\n",
    "```\n",
    "\"\"\""
   ]
  },
  {
   "cell_type": "code",
   "execution_count": 54,
   "metadata": {},
   "outputs": [],
   "source": [
    "chat = ChatOpenAI(temperature=0, model_name = \"gpt-4\")\n",
    "system_message_prompt = SystemMessage(content=\"You are a narrator with experience in making tech tutorial videos.\")\n",
    "human_message_prompt = HumanMessagePromptTemplate(prompt=PromptTemplate(\n",
    "                                                  template=topic_template,\n",
    "                                                  input_variables=[\"app_desc\", \"tutorial_desc\", \"steps\"]))"
   ]
  },
  {
   "cell_type": "code",
   "execution_count": 55,
   "metadata": {},
   "outputs": [],
   "source": [
    "# Chain to write the script for the narrator\n",
    "chat_prompt_template = ChatPromptTemplate.from_messages([system_message_prompt, human_message_prompt])\n",
    "script_chain = LLMChain(llm=chat, prompt=chat_prompt_template, output_key='script')"
   ]
  },
  {
   "cell_type": "code",
   "execution_count": 56,
   "metadata": {},
   "outputs": [],
   "source": [
    "# testing the scripts + prompt engineering"
   ]
  },
  {
   "cell_type": "code",
   "execution_count": 59,
   "metadata": {},
   "outputs": [],
   "source": [
    "messages = [\n",
    "    SystemMessage(\n",
    "        content=\"You are a narrator with experience in making tech tutorial videos.\"\n",
    "    ),\n",
    "    HumanMessage(\n",
    "        content=\"\"\"\n",
    "You are to narrate a tutorial video about using an app. Be informative and do not make up things.\n",
    "You are given a description about the app as well as the tutorial topic.\n",
    "You will then be given the list of steps taken in the video alongside the timestamps where they start.\n",
    "Your narration must abide by the timestamps. If the time window is short, keep the text short aswell.\n",
    "Generate text for the narrator to read out to the viewer and nothing more.\n",
    "\n",
    "App details:\n",
    "```\n",
    "VITian is an application built for students of VIT to access their student data. \n",
    "We can use the app to find out examination allotments.\n",
    "```\n",
    "\n",
    "Tutorial Description:\n",
    "```\n",
    "This is a video tutorial on how to use the VITian app to check exam schedule and timings.\n",
    "```\n",
    "\n",
    "The steps(with timestamps) being performed in the video are:\n",
    "```\n",
    "[\n",
    "    (\"Open the VITN application\", 4.8),\n",
    "    (\"Tap on the refresh button to get the latest data\", 9.08),\n",
    "    (\"Open the sidebar by tapping on the sidebar icon\", 15.2),\n",
    "    (\"Go into academics, then exam schedule\", 21.04),\n",
    "    (\"Select your exam to view the exam venue, details, time and date\", 23.4)\n",
    "]\n",
    "```\n",
    "\"\"\"\n",
    "    ),\n",
    "]"
   ]
  },
  {
   "cell_type": "code",
   "execution_count": 60,
   "metadata": {},
   "outputs": [],
   "source": [
    "op2 = chat(messages)"
   ]
  },
  {
   "cell_type": "code",
   "execution_count": 61,
   "metadata": {},
   "outputs": [
    {
     "data": {
      "text/plain": [
       "'[0:00-4.7]\\n\"Hello everyone, welcome to our tutorial on how to use the VITian app to check your exam schedule and timings. This app is specifically designed for students of VIT to access their student data, including exam allotments. Let\\'s get started.\"\\n\\n[4.8-9.07]\\n\"First, open the VITian application on your device. You\\'ll see the home screen with various options.\"\\n\\n[9.08-15.19]\\n\"Next, tap on the refresh button located at the top right corner of the screen. This will ensure that you have the latest data and updates from the university.\"\\n\\n[15.2-21.03]\\n\"Now, open the sidebar by tapping on the sidebar icon, usually represented by three horizontal lines, located at the top left corner of the screen.\"\\n\\n[21.04-23.39]\\n\"Once the sidebar is open, navigate to the \\'Academics\\' section. Under this, you will find the \\'Exam Schedule\\' option. Tap on it to proceed.\"\\n\\n[23.4-End]\\n\"Here, you will see a list of your exams. Select the exam you want to view. This will display the exam venue, details, time, and date. And that\\'s it! You now know how to check your exam schedule and timings using the VITian app. Thanks for watching!\"'"
      ]
     },
     "execution_count": 61,
     "metadata": {},
     "output_type": "execute_result"
    }
   ],
   "source": [
    "op2.content"
   ]
  },
  {
   "cell_type": "code",
   "execution_count": null,
   "metadata": {},
   "outputs": [],
   "source": []
  },
  {
   "cell_type": "markdown",
   "metadata": {},
   "source": [
    "# Generate the audio"
   ]
  },
  {
   "cell_type": "code",
   "execution_count": null,
   "metadata": {},
   "outputs": [],
   "source": []
  },
  {
   "cell_type": "code",
   "execution_count": null,
   "metadata": {},
   "outputs": [],
   "source": []
  }
 ],
 "metadata": {
  "kernelspec": {
   "display_name": "Python 3",
   "language": "python",
   "name": "python3"
  },
  "language_info": {
   "codemirror_mode": {
    "name": "ipython",
    "version": 3
   },
   "file_extension": ".py",
   "mimetype": "text/x-python",
   "name": "python",
   "nbconvert_exporter": "python",
   "pygments_lexer": "ipython3",
   "version": "3.10.9"
  }
 },
 "nbformat": 4,
 "nbformat_minor": 2
}
