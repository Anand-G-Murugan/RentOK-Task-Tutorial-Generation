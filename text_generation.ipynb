{
 "cells": [
  {
   "cell_type": "code",
   "execution_count": 4,
   "metadata": {},
   "outputs": [
    {
     "data": {
      "text/plain": [
       "True"
      ]
     },
     "execution_count": 4,
     "metadata": {},
     "output_type": "execute_result"
    }
   ],
   "source": [
    "# Loading my OPENAI KEY as an environment variable\n",
    "from dotenv import load_dotenv\n",
    "load_dotenv()"
   ]
  },
  {
   "cell_type": "markdown",
   "metadata": {},
   "source": [
    "## Audio transcription\n",
    "\n",
    "We begin by  transcribing the audio from the input"
   ]
  },
  {
   "cell_type": "code",
   "execution_count": 5,
   "metadata": {},
   "outputs": [],
   "source": [
    "import whisper\n",
    "import os\n",
    "\n",
    "audio_input_path = \"audio/audio_to_transcribe.mp3\" \n",
    "\n",
    "model = whisper.load_model(\"base.en\")"
   ]
  },
  {
   "cell_type": "code",
   "execution_count": 6,
   "metadata": {},
   "outputs": [
    {
     "name": "stdout",
     "output_type": "stream",
     "text": [
      " Today we are going to be looking at how to use the VITN application to view your exam schedule. We will begin by opening the VITN application. Once it is opened up, we tap on the refresh button in order to get the latest data and keep it updated. Then we open the sidebar by tapping on the sidebar icon, go into academics, down and exam schedule. From here we can select our exam and now view the exam venue, see details, time and date. Thank you.\n"
     ]
    }
   ],
   "source": [
    "result = model.transcribe(audio_input_path)\n",
    "print(result[\"text\"])"
   ]
  },
  {
   "cell_type": "code",
   "execution_count": 7,
   "metadata": {},
   "outputs": [],
   "source": [
    "transcript = result"
   ]
  },
  {
   "cell_type": "code",
   "execution_count": 8,
   "metadata": {},
   "outputs": [
    {
     "name": "stdout",
     "output_type": "stream",
     "text": [
      "{'text': ' Today we are going to be looking at how to use the VITN application to view your exam schedule. We will begin by opening the VITN application. Once it is opened up, we tap on the refresh button in order to get the latest data and keep it updated. Then we open the sidebar by tapping on the sidebar icon, go into academics, down and exam schedule. From here we can select our exam and now view the exam venue, see details, time and date. Thank you.', 'segments': [{'id': 0, 'seek': 0, 'start': 0.0, 'end': 3.8000000000000003, 'text': ' Today we are going to be looking at how to use the VITN application to view your exam', 'tokens': [50363, 6288, 356, 389, 1016, 284, 307, 2045, 379, 703, 284, 779, 262, 569, 2043, 45, 3586, 284, 1570, 534, 2814, 50553], 'temperature': 0.0, 'avg_logprob': -0.22808042346921742, 'compression_ratio': 1.7233201581027668, 'no_speech_prob': 0.13063941895961761}, {'id': 1, 'seek': 0, 'start': 3.8000000000000003, 'end': 4.8, 'text': ' schedule.', 'tokens': [50553, 7269, 13, 50603], 'temperature': 0.0, 'avg_logprob': -0.22808042346921742, 'compression_ratio': 1.7233201581027668, 'no_speech_prob': 0.13063941895961761}, {'id': 2, 'seek': 0, 'start': 4.8, 'end': 9.08, 'text': ' We will begin by opening the VITN application.', 'tokens': [50603, 775, 481, 2221, 416, 4756, 262, 569, 2043, 45, 3586, 13, 50817], 'temperature': 0.0, 'avg_logprob': -0.22808042346921742, 'compression_ratio': 1.7233201581027668, 'no_speech_prob': 0.13063941895961761}, {'id': 3, 'seek': 0, 'start': 9.08, 'end': 13.4, 'text': ' Once it is opened up, we tap on the refresh button in order to get the latest data and', 'tokens': [50817, 4874, 340, 318, 4721, 510, 11, 356, 9814, 319, 262, 14976, 4936, 287, 1502, 284, 651, 262, 3452, 1366, 290, 51033], 'temperature': 0.0, 'avg_logprob': -0.22808042346921742, 'compression_ratio': 1.7233201581027668, 'no_speech_prob': 0.13063941895961761}, {'id': 4, 'seek': 0, 'start': 13.4, 'end': 15.200000000000001, 'text': ' keep it updated.', 'tokens': [51033, 1394, 340, 6153, 13, 51123], 'temperature': 0.0, 'avg_logprob': -0.22808042346921742, 'compression_ratio': 1.7233201581027668, 'no_speech_prob': 0.13063941895961761}, {'id': 5, 'seek': 0, 'start': 15.200000000000001, 'end': 21.04, 'text': ' Then we open the sidebar by tapping on the sidebar icon, go into academics, down and', 'tokens': [51123, 3244, 356, 1280, 262, 40217, 416, 24435, 319, 262, 40217, 7196, 11, 467, 656, 22321, 11, 866, 290, 51415], 'temperature': 0.0, 'avg_logprob': -0.22808042346921742, 'compression_ratio': 1.7233201581027668, 'no_speech_prob': 0.13063941895961761}, {'id': 6, 'seek': 0, 'start': 21.04, 'end': 23.400000000000002, 'text': ' exam schedule.', 'tokens': [51415, 2814, 7269, 13, 51533], 'temperature': 0.0, 'avg_logprob': -0.22808042346921742, 'compression_ratio': 1.7233201581027668, 'no_speech_prob': 0.13063941895961761}, {'id': 7, 'seek': 0, 'start': 23.400000000000002, 'end': 29.2, 'text': ' From here we can select our exam and now view the exam venue, see details, time and date.', 'tokens': [51533, 3574, 994, 356, 460, 2922, 674, 2814, 290, 783, 1570, 262, 2814, 14359, 11, 766, 3307, 11, 640, 290, 3128, 13, 51823], 'temperature': 0.0, 'avg_logprob': -0.22808042346921742, 'compression_ratio': 1.7233201581027668, 'no_speech_prob': 0.13063941895961761}, {'id': 8, 'seek': 2920, 'start': 29.2, 'end': 30.2, 'text': ' Thank you.', 'tokens': [50363, 6952, 345, 13, 50413], 'temperature': 0.0, 'avg_logprob': -0.9295773506164551, 'compression_ratio': 0.5555555555555556, 'no_speech_prob': 0.996982991695404}], 'language': 'en'}\n"
     ]
    }
   ],
   "source": [
    "print(result)"
   ]
  },
  {
   "cell_type": "code",
   "execution_count": 9,
   "metadata": {},
   "outputs": [],
   "source": [
    "from langchain.chat_models import ChatOpenAI\n",
    "from langchain.chains import LLMChain, SimpleSequentialChain, SequentialChain, TransformChain\n",
    "from langchain.prompts import PromptTemplate\n",
    "from langchain.prompts.chat import (\n",
    "    ChatPromptTemplate,\n",
    "    SystemMessagePromptTemplate,\n",
    "    AIMessagePromptTemplate,\n",
    "    HumanMessagePromptTemplate,\n",
    ")\n",
    "from langchain.schema import AIMessage, HumanMessage, SystemMessage"
   ]
  },
  {
   "cell_type": "markdown",
   "metadata": {},
   "source": [
    "## Steps generation"
   ]
  },
  {
   "cell_type": "markdown",
   "metadata": {},
   "source": [
    "1. We generate steps taken in the video, alongside the timestamps for when the step begins.\n",
    "2. We will use the start time of each step to display the step_text in our video"
   ]
  },
  {
   "cell_type": "code",
   "execution_count": 10,
   "metadata": {},
   "outputs": [],
   "source": [
    "# Prompt template to generate the narrator text\n",
    "topic_template = \"\"\"\n",
    "You are given the transcript of a video of me using an app.\n",
    "You are to convert the given text of actions performed in the video into an organized list of steps and properly number them.\n",
    "You are to also timestamp each of the steps as per the transcript. \n",
    "The output must be a python list of tuples like [(step_text, timestamp), (step_text, timestamp)] where each step_text is a step and timestamp is the start of the text in seconds . Be informative and do not make up things.\n",
    "\n",
    "App details:\n",
    "```\n",
    "{app_desc}\n",
    "```\n",
    "\n",
    "Tutorial Description:\n",
    "```\n",
    "{tutorial_desc}\n",
    "```\n",
    "\n",
    "The Transcript:\n",
    "```\n",
    "{transcript}\n",
    "```\n",
    "Do not give any additional text. No talk, just go. \n",
    "\"\"\""
   ]
  },
  {
   "cell_type": "code",
   "execution_count": 11,
   "metadata": {},
   "outputs": [],
   "source": [
    "chat = ChatOpenAI(temperature=0, model_name = \"gpt-4\")\n",
    "system_message_prompt = SystemMessage(content=\"You are an expert at making tutorial videos and very good at defining tasks in simple terms.\")\n",
    "human_message_prompt = HumanMessagePromptTemplate(prompt=PromptTemplate(\n",
    "                                                  template=topic_template,\n",
    "                                                  input_variables=[\"app_desc\",\"tutorial_desc\", \"transcript\"]))"
   ]
  },
  {
   "cell_type": "code",
   "execution_count": 12,
   "metadata": {},
   "outputs": [],
   "source": [
    "# Chain to write the create the steps from the input text\n",
    "chat_prompt_template = ChatPromptTemplate.from_messages([system_message_prompt, human_message_prompt])\n",
    "steps_chain = LLMChain(llm=chat, prompt=chat_prompt_template, output_key='steps')"
   ]
  },
  {
   "cell_type": "code",
   "execution_count": 13,
   "metadata": {},
   "outputs": [],
   "source": [
    "# Description of the app we are using\n",
    "\n",
    "# USER INPUT\n",
    "app_desc = \"\"\"VITian is an application built for students of VIT to access their student data. \n",
    "We can use the app to find out examination allotments.\"\"\"\n",
    "\n",
    "# Tutorial Description\n",
    "\n",
    "#USER INPUT\n",
    "tutorial_desc = \"\"\"This is a video tutorial on how to use the VITian app to check exam schedule and timings.\"\"\"\n",
    "\n",
    "# transcript has been acquired from the whisper module"
   ]
  },
  {
   "cell_type": "code",
   "execution_count": 14,
   "metadata": {},
   "outputs": [],
   "source": [
    "# testing the steps chain + prompt engineering\n",
    "op = steps_chain(inputs={\"app_desc\": app_desc, \"tutorial_desc\": tutorial_desc, \"transcript\": transcript}, return_only_outputs=True)"
   ]
  },
  {
   "cell_type": "code",
   "execution_count": 15,
   "metadata": {},
   "outputs": [
    {
     "name": "stdout",
     "output_type": "stream",
     "text": [
      "{'steps': 'Here is the list of steps with timestamps:\\n\\n```python\\n[\\n    (\"Open the VITN application\", 4.8),\\n    (\"Tap on the refresh button to get the latest data\", 9.08),\\n    (\"Open the sidebar by tapping on the sidebar icon\", 15.2),\\n    (\"Go into academics, down and exam schedule\", 21.04),\\n    (\"Select your exam to view the exam venue, details, time and date\", 23.4)\\n]\\n```'}\n"
     ]
    }
   ],
   "source": [
    "print(op)"
   ]
  },
  {
   "cell_type": "code",
   "execution_count": 17,
   "metadata": {},
   "outputs": [
    {
     "name": "stdout",
     "output_type": "stream",
     "text": [
      "Here is the list of steps with timestamps:\n",
      "\n",
      "```python\n",
      "[\n",
      "    (\"Open the VITN application\", 4.8),\n",
      "    (\"Tap on the refresh button to get the latest data\", 9.08),\n",
      "    (\"Open the sidebar by tapping on the sidebar icon\", 15.2),\n",
      "    (\"Go into academics, down and exam schedule\", 21.04),\n",
      "    (\"Select your exam to view the exam venue, details, time and date\", 23.4)\n",
      "]\n",
      "```\n"
     ]
    }
   ],
   "source": [
    "print(op['steps'])\n",
    "steps = op['steps']"
   ]
  },
  {
   "cell_type": "markdown",
   "metadata": {},
   "source": [
    "## Extracting tuples from the output"
   ]
  },
  {
   "cell_type": "code",
   "execution_count": 18,
   "metadata": {},
   "outputs": [],
   "source": [
    "steps = \"\"\"Here is the list of steps with timestamps:\n",
    "\n",
    "```python\n",
    "[\n",
    "    (\"Open the VITN application\", 4.8),\n",
    "    (\"Tap on the refresh button to get the latest data\", 9.08),\n",
    "    (\"Open the sidebar by tapping on the sidebar icon\", 15.2),\n",
    "    (\"Go into academics, then exam schedule\", 21.04),\n",
    "    (\"Select your exam to view the exam venue, details, time and date\", 23.4)\n",
    "]\n",
    "```\"\"\""
   ]
  },
  {
   "cell_type": "code",
   "execution_count": 19,
   "metadata": {},
   "outputs": [
    {
     "name": "stdout",
     "output_type": "stream",
     "text": [
      "('Open the VITN application', 4.8)\n",
      "=========\n",
      "('Tap on the refresh button to get the latest data', 9.08)\n",
      "=========\n",
      "('Open the sidebar by tapping on the sidebar icon', 15.2)\n",
      "=========\n",
      "('Go into academics, then exam schedule', 21.04)\n",
      "=========\n",
      "('Select your exam to view the exam venue, details, time and date', 23.4)\n",
      "=========\n"
     ]
    },
    {
     "data": {
      "text/plain": [
       "23.4"
      ]
     },
     "execution_count": 19,
     "metadata": {},
     "output_type": "execute_result"
    }
   ],
   "source": [
    "import re\n",
    "\n",
    "tuples = re.findall(r'\\(([^)]+)', steps)\n",
    "# array of timestamps of each step\n",
    "timers = [0]\n",
    "\n",
    "for i in tuples:\n",
    "    text = re.findall(r'[^\"]+', i)\n",
    "    # print(text[0])\n",
    "    timer = float(re.findall(r'\\d+\\.\\d+', i)[0])\n",
    "    # print(timer)\n",
    "    print((text[0],timer))\n",
    "    timers.append(timer)\n",
    "    print(\"=========\")\n",
    "\n",
    "# we want the starting timestamps, not the end\n",
    "timers.pop()"
   ]
  },
  {
   "cell_type": "code",
   "execution_count": 20,
   "metadata": {},
   "outputs": [],
   "source": [
    "file = open('text/items.txt','w')\n",
    "for item in tuples:\n",
    "\tfile.write(item+\"\\n\")\n",
    "file.close()"
   ]
  },
  {
   "cell_type": "code",
   "execution_count": 21,
   "metadata": {},
   "outputs": [
    {
     "data": {
      "text/plain": [
       "[0, 4.8, 9.08, 15.2, 21.04]"
      ]
     },
     "execution_count": 21,
     "metadata": {},
     "output_type": "execute_result"
    }
   ],
   "source": [
    "timers"
   ]
  },
  {
   "cell_type": "markdown",
   "metadata": {},
   "source": [
    "## Narrator Script Generation"
   ]
  },
  {
   "cell_type": "code",
   "execution_count": 22,
   "metadata": {},
   "outputs": [],
   "source": [
    "# Prompt template to generate teh narrator text\n",
    "topic_template = \"\"\"\n",
    "You are to narrate a tutorial video about using an app. Be informative and do not make up things.\n",
    "You are given a description about the app as well as the tutorial topic.\n",
    "You will then be given the list of steps taken in the video alongside the timestamps where they start.\n",
    "Your narration must abide by the timestamps. You can make a maximum of 3 words per second in the time window for each step.\n",
    "Generate text for the narrator to read out to the viewer and nothing more.\n",
    "Output must be a python list of strings where each string is the text for each step.\n",
    "Output format:\n",
    "```\n",
    "[step_1_text, step_2_text, step_3_text, step_4_text]\n",
    "```\n",
    "\n",
    "App details:\n",
    "```\n",
    "{app_desc}\n",
    "```\n",
    "\n",
    "Tutorial Description:\n",
    "```\n",
    "{tutorial_desc}\n",
    "```\n",
    "\n",
    "The steps(with timestamps) being performed in the video are:\n",
    "```\n",
    "{steps}\n",
    "```\n",
    "\"\"\""
   ]
  },
  {
   "cell_type": "code",
   "execution_count": 23,
   "metadata": {},
   "outputs": [],
   "source": [
    "chat = ChatOpenAI(temperature=0, model_name = \"gpt-4\")\n",
    "system_message_prompt = SystemMessage(content=\"You are a narrator with experience in making tech tutorial videos.\")\n",
    "human_message_prompt = HumanMessagePromptTemplate(prompt=PromptTemplate(\n",
    "                                                  template=topic_template,\n",
    "                                                  input_variables=[\"app_desc\", \"tutorial_desc\", \"steps\"]))"
   ]
  },
  {
   "cell_type": "code",
   "execution_count": 24,
   "metadata": {},
   "outputs": [],
   "source": [
    "# Chain to write the script for the narrator\n",
    "chat_prompt_template = ChatPromptTemplate.from_messages([system_message_prompt, human_message_prompt])\n",
    "script_chain = LLMChain(llm=chat, prompt=chat_prompt_template, output_key='script')"
   ]
  },
  {
   "cell_type": "code",
   "execution_count": 25,
   "metadata": {},
   "outputs": [],
   "source": [
    "# testing the scripts + prompt engineering"
   ]
  },
  {
   "cell_type": "code",
   "execution_count": 26,
   "metadata": {},
   "outputs": [],
   "source": [
    "# testing the steps chain + prompt engineering\n",
    "op2 = script_chain(inputs={\"app_desc\": app_desc, \"tutorial_desc\": tutorial_desc, \"steps\": steps}, return_only_outputs=True)"
   ]
  },
  {
   "cell_type": "code",
   "execution_count": 27,
   "metadata": {},
   "outputs": [
    {
     "name": "stdout",
     "output_type": "stream",
     "text": [
      "[\"Welcome to this tutorial. Let's start by opening the VITian application.\", \"Now, tap on the refresh button to fetch the latest data.\", \"Next, open the sidebar by tapping on the sidebar icon.\", \"Navigate to academics, then select exam schedule.\", \"Finally, select your exam to view the venue, details, time and date.\"]\n"
     ]
    }
   ],
   "source": [
    "print(op2['script'])\n",
    "script = op2['script']"
   ]
  },
  {
   "cell_type": "code",
   "execution_count": 46,
   "metadata": {},
   "outputs": [],
   "source": [
    "import re\n",
    "\n",
    "# extract strings inside double quotes\n",
    "strings = re.findall(r'\"([^\"]*)\"', script)\n",
    "\n",
    "script = strings"
   ]
  },
  {
   "cell_type": "code",
   "execution_count": 48,
   "metadata": {},
   "outputs": [
    {
     "name": "stdout",
     "output_type": "stream",
     "text": [
      "Welcome to this tutorial. Let's start by opening the VITian application.\n",
      "======================\n",
      "Now, tap on the refresh button to fetch the latest data.\n",
      "======================\n",
      "Next, open the sidebar by tapping on the sidebar icon.\n",
      "======================\n",
      "Navigate to academics, then select exam schedule.\n",
      "======================\n",
      "Finally, select your exam to view the venue, details, time and date.\n",
      "======================\n"
     ]
    }
   ],
   "source": [
    "for i in script:\n",
    "    print(i)\n",
    "    print(\"======================\")"
   ]
  },
  {
   "cell_type": "markdown",
   "metadata": {},
   "source": [
    "# Generate the audio"
   ]
  },
  {
   "cell_type": "markdown",
   "metadata": {},
   "source": [
    "### Suno - Bark"
   ]
  },
  {
   "cell_type": "code",
   "execution_count": 49,
   "metadata": {},
   "outputs": [],
   "source": [
    "# from bark import SAMPLE_RATE, generate_audio, preload_models\n",
    "# from IPython.display import Audio\n",
    "\n",
    "# preload_models()"
   ]
  },
  {
   "cell_type": "code",
   "execution_count": 50,
   "metadata": {},
   "outputs": [],
   "source": [
    "# # generate audio from text\n",
    "# text_prompt = \"\"\"\n",
    "#      Hello, my name is Suno. And, uh — and I like pizza. [laughs] \n",
    "#      But I also have other interests such as playing tic tac toe.\n",
    "# \"\"\"\n",
    "# # Male Speaker\n",
    "# audio_array = generate_audio(text_prompt, history_prompt=\"v2/en_speaker_6\")\n",
    "\n",
    "# # # Female Speaker\n",
    "# # audio_array = generate_audio(text_prompt, history_prompt=\"v2/en_speaker_6\")\n",
    "# Audio(audio_array, rate=SAMPLE_RATE) "
   ]
  },
  {
   "cell_type": "code",
   "execution_count": 51,
   "metadata": {},
   "outputs": [],
   "source": [
    "#Bark is waay too slow"
   ]
  },
  {
   "cell_type": "code",
   "execution_count": 52,
   "metadata": {},
   "outputs": [],
   "source": [
    "# # testing purposes\n",
    "# temp = [\"Welcome to this tutorial. Let's start by opening the VITian application.\", \"Now, tap the refresh button to fetch the latest data.\", \"Next, open the sidebar by tapping on the sidebar icon.\", \"Navigate to academics, then select exam schedule.\", \"Finally, select your exam to view the venue, details, time and date.\"]\n",
    "# temp\n",
    "# script = temp"
   ]
  },
  {
   "cell_type": "code",
   "execution_count": 53,
   "metadata": {},
   "outputs": [],
   "source": [
    "# # testing purposes\n",
    "# steps = \"\"\"Here is the list of steps with timestamps:\n",
    "\n",
    "# ```python\n",
    "# [\n",
    "#     (\"Open the VITN application\", 4.8),\n",
    "#     (\"Tap on the refresh button to get the latest data\", 9.08),\n",
    "#     (\"Open the sidebar by tapping on the sidebar icon\", 15.2),\n",
    "#     (\"Go into academics, then exam schedule\", 21.04),\n",
    "#     (\"Select your exam to view the exam venue, details, time and date\", 23.4)\n",
    "# ]\n",
    "# ```\"\"\""
   ]
  },
  {
   "cell_type": "code",
   "execution_count": 54,
   "metadata": {},
   "outputs": [],
   "source": [
    "# # start a timer\n",
    "# import time\n",
    "\n",
    "# start_time = time.time()\n",
    "# j = 0\n",
    "# for i in temp:\n",
    "#     # print the message being said\n",
    "#     print(i)\n",
    "#     # print the time the message starts\n",
    "#     print(time.time() - start_time)\n",
    "#     if time.time() - start_time >= timers[j]:\n",
    "#         tts(i)\n",
    "#     else:\n",
    "#         time.sleep(timers[j] - (time.time() - start_time))\n",
    "#         tts(i)\n",
    "    \n",
    "#     j+=1\n",
    "    \n",
    "#     print(\"===============\")"
   ]
  },
  {
   "cell_type": "markdown",
   "metadata": {},
   "source": [
    "## pyttsx3"
   ]
  },
  {
   "cell_type": "code",
   "execution_count": 55,
   "metadata": {},
   "outputs": [],
   "source": [
    "import pyttsx3\n",
    "engine = pyttsx3.init()\n",
    "engine.say(\"Speech Testing\")\n",
    "engine.runAndWait()"
   ]
  },
  {
   "cell_type": "code",
   "execution_count": 56,
   "metadata": {},
   "outputs": [],
   "source": [
    "# # start a timer\n",
    "# import time\n",
    "\n",
    "# start_time = time.time()\n",
    "# j = 0\n",
    "# for i in temp:\n",
    "#     # print the message being said\n",
    "#     print(i)\n",
    "#     # print the time the message starts\n",
    "#     print(time.time() - start_time)\n",
    "#     if time.time() - start_time >= timers[j]:\n",
    "#         engine.say(i)\n",
    "#         engine.runAndWait()\n",
    "        \n",
    "#     else:\n",
    "#         time.sleep(timers[j] - (time.time() - start_time))\n",
    "#         engine.say(i)\n",
    "#         engine.runAndWait()\n",
    "    \n",
    "#     j+=1\n",
    "    \n",
    "#     print(\"===============\")"
   ]
  },
  {
   "cell_type": "markdown",
   "metadata": {},
   "source": [
    "### TTS Conclusions\n",
    "\n",
    "Suno bark has very good quality but too much time taken. <Br>\n",
    "pyttsx3 is fast but the quality is not good. <Br>\n",
    "ttsvoice is decent and fast but does not have a save to file option <Br>\n",
    "Need to explore Google TTS "
   ]
  },
  {
   "cell_type": "code",
   "execution_count": 57,
   "metadata": {},
   "outputs": [
    {
     "data": {
      "text/plain": [
       "[\"Welcome to this tutorial. Let's start by opening the VITian application.\",\n",
       " 'Now, tap on the refresh button to fetch the latest data.',\n",
       " 'Next, open the sidebar by tapping on the sidebar icon.',\n",
       " 'Navigate to academics, then select exam schedule.',\n",
       " 'Finally, select your exam to view the venue, details, time and date.']"
      ]
     },
     "execution_count": 57,
     "metadata": {},
     "output_type": "execute_result"
    }
   ],
   "source": [
    "script"
   ]
  },
  {
   "cell_type": "code",
   "execution_count": 58,
   "metadata": {},
   "outputs": [
    {
     "name": "stdout",
     "output_type": "stream",
     "text": [
      "Welcome to this tutorial. Let's start by opening the VITian application.\n",
      "===========================================\n",
      "Now, tap on the refresh button to fetch the latest data.\n",
      "===========================================\n",
      "Next, open the sidebar by tapping on the sidebar icon.\n",
      "===========================================\n",
      "Navigate to academics, then select exam schedule.\n",
      "===========================================\n",
      "Finally, select your exam to view the venue, details, time and date.\n",
      "===========================================\n"
     ]
    }
   ],
   "source": [
    "j = 0\n",
    "audio_file_paths = []\n",
    "for i in script:\n",
    "    # print the message being said\n",
    "    print(i)\n",
    "    # print the time the message starts\n",
    "    output_path = \"audio/Audio_Step_\" + str(j) + \".mp3\"\n",
    "    engine.save_to_file(i, output_path)\n",
    "    engine.runAndWait()    \n",
    "    audio_file_paths.append(output_path)\n",
    "    j+=1    \n",
    "    print(\"===========================================\")"
   ]
  },
  {
   "cell_type": "code",
   "execution_count": 59,
   "metadata": {},
   "outputs": [
    {
     "data": {
      "text/plain": [
       "['audio/Audio_Step_0.mp3',\n",
       " 'audio/Audio_Step_1.mp3',\n",
       " 'audio/Audio_Step_2.mp3',\n",
       " 'audio/Audio_Step_3.mp3',\n",
       " 'audio/Audio_Step_4.mp3']"
      ]
     },
     "execution_count": 59,
     "metadata": {},
     "output_type": "execute_result"
    }
   ],
   "source": [
    "audio_file_paths"
   ]
  },
  {
   "cell_type": "markdown",
   "metadata": {},
   "source": [
    "## Using pydub to merge into a singular audio file with appropriate timings"
   ]
  },
  {
   "cell_type": "code",
   "execution_count": 60,
   "metadata": {},
   "outputs": [],
   "source": [
    "from pydub import AudioSegment"
   ]
  },
  {
   "cell_type": "code",
   "execution_count": 61,
   "metadata": {},
   "outputs": [],
   "source": [
    "from pydub import AudioSegment\n",
    "\n",
    "def merge_audio_with_silence(filenames, start_times):\n",
    "    # Load the first audio file\n",
    "    combined_audio = AudioSegment.from_file(filenames[0])\n",
    "    \n",
    "    # Add the required silence before the first audio file\n",
    "    silence_duration = start_times[0] * 1000  # Convert seconds to milliseconds\n",
    "    combined_audio = AudioSegment.silent(duration=silence_duration) + combined_audio\n",
    "    \n",
    "    # For each subsequent audio file...\n",
    "    for i in range(1, len(filenames)):\n",
    "        # Load the audio file\n",
    "        audio = AudioSegment.from_file(filenames[i])\n",
    "        # print(\"Now reading \" + filenames[i])\n",
    "        \n",
    "        # Calculate the required silence duration\n",
    "        len_so_far = len(combined_audio) / 1000.0\n",
    "        silence_duration = (start_times[i] - len_so_far) * 1000  # Convert seconds to milliseconds\n",
    "        # print(\"len_so_far (in seconds): \" , len_so_far)\n",
    "        # print(\"we gotta start at (in seconds): \", start_times[i])\n",
    "        # print(\"silence_duration (in milliseconds): \" , silence_duration)\n",
    "        if silence_duration > 0:\n",
    "            silence = AudioSegment.silent(duration=silence_duration)\n",
    "        else:\n",
    "            silence = AudioSegment.empty()\n",
    "        \n",
    "        # Append the silence and the audio to the combined audio\n",
    "        combined_audio += silence + audio\n",
    "        # print(\"============================================================\")\n",
    "    \n",
    "    return combined_audio\n"
   ]
  },
  {
   "cell_type": "code",
   "execution_count": 62,
   "metadata": {},
   "outputs": [
    {
     "name": "stdout",
     "output_type": "stream",
     "text": [
      "[0, 4.8, 9.08, 15.2, 21.04]\n",
      "['audio/Audio_Step_0.mp3', 'audio/Audio_Step_1.mp3', 'audio/Audio_Step_2.mp3', 'audio/Audio_Step_3.mp3', 'audio/Audio_Step_4.mp3']\n"
     ]
    }
   ],
   "source": [
    "print(timers)\n",
    "print(audio_file_paths)"
   ]
  },
  {
   "cell_type": "code",
   "execution_count": 63,
   "metadata": {},
   "outputs": [
    {
     "data": {
      "text/plain": [
       "<_io.BufferedRandom name='audio/merged_audio.mp3'>"
      ]
     },
     "execution_count": 63,
     "metadata": {},
     "output_type": "execute_result"
    }
   ],
   "source": [
    "# Merge the audio files\n",
    "merged_audio = merge_audio_with_silence(audio_file_paths, timers)\n",
    "\n",
    "# Save the merged audio to a file\n",
    "output_path = \"audio/merged_audio.mp3\"\n",
    "merged_audio.export(output_path)"
   ]
  },
  {
   "cell_type": "code",
   "execution_count": null,
   "metadata": {},
   "outputs": [],
   "source": []
  }
 ],
 "metadata": {
  "kernelspec": {
   "display_name": "Python 3",
   "language": "python",
   "name": "python3"
  },
  "language_info": {
   "codemirror_mode": {
    "name": "ipython",
    "version": 3
   },
   "file_extension": ".py",
   "mimetype": "text/x-python",
   "name": "python",
   "nbconvert_exporter": "python",
   "pygments_lexer": "ipython3",
   "version": "3.10.9"
  }
 },
 "nbformat": 4,
 "nbformat_minor": 2
}
